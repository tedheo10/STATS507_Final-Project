{
 "cells": [
  {
   "cell_type": "markdown",
   "id": "4a8e0915-35d8-4b26-ba84-1e236c5324dd",
   "metadata": {},
   "source": [
    "# 1) Financial Phrases Data (Original training data)\n",
    "---"
   ]
  },
  {
   "cell_type": "code",
   "execution_count": 3,
   "id": "4c6ddb19-7bb8-4447-bf2c-edee1fc95b0d",
   "metadata": {
    "collapsed": true,
    "jupyter": {
     "outputs_hidden": true
    },
    "scrolled": true
   },
   "outputs": [
    {
     "name": "stdout",
     "output_type": "stream",
     "text": [
      "604 2878 1363\n"
     ]
    }
   ],
   "source": [
    "import numpy as np\n",
    "import pandas as pd\n",
    "from matplotlib import pyplot as plt\n",
    "\n",
    "pre_df = pd.read_csv('fin_sent_phrases.csv', encoding='iso-8859-1') \n",
    "pre_df.columns = ['sentiment', 'sentence']\n",
    "print(sum(pre_df['sentiment'] == 'negative'), sum(pre_df['sentiment'] == 'neutral'), sum(pre_df['sentiment'] == 'positive'))\n",
    "np_data = pre_df[(pre_df['sentiment']=='neutral') | (pre_df['sentiment']=='positive')]"
   ]
  },
  {
   "cell_type": "code",
   "execution_count": null,
   "id": "3580c77d-d9a7-42cd-a8ca-5f8b10ecc1fa",
   "metadata": {},
   "outputs": [],
   "source": []
  },
  {
   "cell_type": "markdown",
   "id": "84df24d6-ce97-4b3c-8975-ec33b4b91221",
   "metadata": {},
   "source": [
    "# 2) Complaint Data\n",
    "---"
   ]
  },
  {
   "cell_type": "code",
   "execution_count": 5,
   "id": "c66e84b2-379c-476a-928f-75d50e665641",
   "metadata": {},
   "outputs": [
    {
     "name": "stderr",
     "output_type": "stream",
     "text": [
      "/var/folders/h9/29cqk7qx1zg792pd6dlbxghm0000gn/T/ipykernel_92678/4025852125.py:1: DtypeWarning: Columns (16) have mixed types. Specify dtype option on import or set low_memory=False.\n",
      "  comp_df = pd.read_csv('./Data/complaints.csv')\n"
     ]
    },
    {
     "name": "stdout",
     "output_type": "stream",
     "text": [
      "(2690358, 5)\n"
     ]
    },
    {
     "data": {
      "text/html": [
       "<div>\n",
       "<style scoped>\n",
       "    .dataframe tbody tr th:only-of-type {\n",
       "        vertical-align: middle;\n",
       "    }\n",
       "\n",
       "    .dataframe tbody tr th {\n",
       "        vertical-align: top;\n",
       "    }\n",
       "\n",
       "    .dataframe thead th {\n",
       "        text-align: right;\n",
       "    }\n",
       "</style>\n",
       "<table border=\"1\" class=\"dataframe\">\n",
       "  <thead>\n",
       "    <tr style=\"text-align: right;\">\n",
       "      <th></th>\n",
       "      <th>date</th>\n",
       "      <th>product</th>\n",
       "      <th>issue</th>\n",
       "      <th>complaint</th>\n",
       "      <th>company</th>\n",
       "    </tr>\n",
       "  </thead>\n",
       "  <tbody>\n",
       "    <tr>\n",
       "      <th>21</th>\n",
       "      <td>2025-01-09</td>\n",
       "      <td>Credit reporting or other personal consumer reports</td>\n",
       "      <td>Incorrect information on your report</td>\n",
       "      <td>I attempted to contact ChexSystems to dispute and remove information that does not belong to me and is adversely affecting my financial standing. I provided the neessary details and documentation to support my claim, emphasizing that the information was inaccurate and not associated with my accounts or activities.Despite my efforts to resolve the matter promptly and in good faith, I have not received any acknowledgment or response from ChexSystems, leaving the issue unresolved and continuing to impact me unfairly.</td>\n",
       "      <td>Fidelity National Information Services, Inc. (FNIS)</td>\n",
       "    </tr>\n",
       "    <tr>\n",
       "      <th>24</th>\n",
       "      <td>2025-01-17</td>\n",
       "      <td>Money transfer, virtual currency, or money service</td>\n",
       "      <td>Other transaction problem</td>\n",
       "      <td>I am filing a complaint against Cash App ( Block , Inc. ) due to inadequate customer service and unfair practices, which violate the Consumer Financial Protection Act ( CFPA ). Specifically, Cash App failed to take timely and effective measures to prevent and address fraud on their platform, leaving my account vulnerable and unprotected. Furthermore, their dispute resolution process was unfair and deceptive, as they did not comply with error resolution requirements under the Electronic Fund Transfer Act ( EFTA ) and Regulation E. These actions have caused significant inconvenience and financial loss, and I seek appropriate redress for these violations.</td>\n",
       "      <td>Block, Inc.</td>\n",
       "    </tr>\n",
       "    <tr>\n",
       "      <th>33</th>\n",
       "      <td>2025-01-17</td>\n",
       "      <td>Money transfer, virtual currency, or money service</td>\n",
       "      <td>Other transaction problem</td>\n",
       "      <td>I am filing a complaint against Cash App ( Block , Inc. ) due to inadequate customer service and unfair practices, which violate the Consumer Financial Protection Act ( CFPA ). Specifically, Cash App failed to take timely and effective measures to prevent and address fraud on their platform, leaving my account vulnerable and unprotected.Furthermore, their dispute resolution process was unfair and deceptive, as they did not comply with error resolution requirements under the Electronic Fund Transfer Act ( EFTA ) and Regulation E. These actions have caused significant inconvenience and financial loss, and I seek appropriate redres for these violations.</td>\n",
       "      <td>Block, Inc.</td>\n",
       "    </tr>\n",
       "    <tr>\n",
       "      <th>38</th>\n",
       "      <td>2025-01-17</td>\n",
       "      <td>Money transfer, virtual currency, or money service</td>\n",
       "      <td>Other transaction problem</td>\n",
       "      <td>I am filing a complaint against Cash App ( Block , Inc. ) due to inadequate customer service and unfair practices, which violate the Consumer Financial Protection Act ( CFPA ). Specifically, Cash App failed to take timely and effective measures to prevent and address fraud on their platform, leaving my account vulnerable and unprotected.\\n\\nFurthermore, their dispute resolution process was unfair and deceptive, as they did not comply with error resolution requirements under the Electronic Fund Transfer Act ( EFTA ) and Regulation E. These actions have caused significant inconvenience and financial loss, and I seek appropriate redress for these violations</td>\n",
       "      <td>Block, Inc.</td>\n",
       "    </tr>\n",
       "    <tr>\n",
       "      <th>39</th>\n",
       "      <td>2025-01-17</td>\n",
       "      <td>Money transfer, virtual currency, or money service</td>\n",
       "      <td>Other transaction problem</td>\n",
       "      <td>I am filing a complaint against Cash App ( Block , Inc. ) due to inadequate customer service and unfair practices, which violate the Consumer Financial Protection Act ( CFPA ). Specifically, Cash App failed to take timely and effective measures to prevent and address fraud on their platform, leaving my account vulnerable and unprotected.\\n\\nFurthermore, their dispute resolution process was unfair and deceptive, as they did not comply with error resolution requirements under the Electronic Fund Transfer Act ( EFTA ) and Regulation E. These actions have caused significant inconvenience and financial loss, and I seek appropriate redress for these violations.</td>\n",
       "      <td>Block, Inc.</td>\n",
       "    </tr>\n",
       "  </tbody>\n",
       "</table>\n",
       "</div>"
      ],
      "text/plain": [
       "          date                                              product  \\\n",
       "21  2025-01-09  Credit reporting or other personal consumer reports   \n",
       "24  2025-01-17   Money transfer, virtual currency, or money service   \n",
       "33  2025-01-17   Money transfer, virtual currency, or money service   \n",
       "38  2025-01-17   Money transfer, virtual currency, or money service   \n",
       "39  2025-01-17   Money transfer, virtual currency, or money service   \n",
       "\n",
       "                                   issue  \\\n",
       "21  Incorrect information on your report   \n",
       "24             Other transaction problem   \n",
       "33             Other transaction problem   \n",
       "38             Other transaction problem   \n",
       "39             Other transaction problem   \n",
       "\n",
       "                                                                                                                                                                                                                                                                                                                                                                                                                                                                                                                                                                                                                                                                                  complaint  \\\n",
       "21                                                                                                                                                  I attempted to contact ChexSystems to dispute and remove information that does not belong to me and is adversely affecting my financial standing. I provided the neessary details and documentation to support my claim, emphasizing that the information was inaccurate and not associated with my accounts or activities.Despite my efforts to resolve the matter promptly and in good faith, I have not received any acknowledgment or response from ChexSystems, leaving the issue unresolved and continuing to impact me unfairly.   \n",
       "24     I am filing a complaint against Cash App ( Block , Inc. ) due to inadequate customer service and unfair practices, which violate the Consumer Financial Protection Act ( CFPA ). Specifically, Cash App failed to take timely and effective measures to prevent and address fraud on their platform, leaving my account vulnerable and unprotected. Furthermore, their dispute resolution process was unfair and deceptive, as they did not comply with error resolution requirements under the Electronic Fund Transfer Act ( EFTA ) and Regulation E. These actions have caused significant inconvenience and financial loss, and I seek appropriate redress for these violations.   \n",
       "33       I am filing a complaint against Cash App ( Block , Inc. ) due to inadequate customer service and unfair practices, which violate the Consumer Financial Protection Act ( CFPA ). Specifically, Cash App failed to take timely and effective measures to prevent and address fraud on their platform, leaving my account vulnerable and unprotected.Furthermore, their dispute resolution process was unfair and deceptive, as they did not comply with error resolution requirements under the Electronic Fund Transfer Act ( EFTA ) and Regulation E. These actions have caused significant inconvenience and financial loss, and I seek appropriate redres for these violations.   \n",
       "38   I am filing a complaint against Cash App ( Block , Inc. ) due to inadequate customer service and unfair practices, which violate the Consumer Financial Protection Act ( CFPA ). Specifically, Cash App failed to take timely and effective measures to prevent and address fraud on their platform, leaving my account vulnerable and unprotected.\\n\\nFurthermore, their dispute resolution process was unfair and deceptive, as they did not comply with error resolution requirements under the Electronic Fund Transfer Act ( EFTA ) and Regulation E. These actions have caused significant inconvenience and financial loss, and I seek appropriate redress for these violations   \n",
       "39  I am filing a complaint against Cash App ( Block , Inc. ) due to inadequate customer service and unfair practices, which violate the Consumer Financial Protection Act ( CFPA ). Specifically, Cash App failed to take timely and effective measures to prevent and address fraud on their platform, leaving my account vulnerable and unprotected.\\n\\nFurthermore, their dispute resolution process was unfair and deceptive, as they did not comply with error resolution requirements under the Electronic Fund Transfer Act ( EFTA ) and Regulation E. These actions have caused significant inconvenience and financial loss, and I seek appropriate redress for these violations.   \n",
       "\n",
       "                                                company  \n",
       "21  Fidelity National Information Services, Inc. (FNIS)  \n",
       "24                                          Block, Inc.  \n",
       "33                                          Block, Inc.  \n",
       "38                                          Block, Inc.  \n",
       "39                                          Block, Inc.  "
      ]
     },
     "execution_count": 5,
     "metadata": {},
     "output_type": "execute_result"
    }
   ],
   "source": [
    "comp_df = pd.read_csv('complaints.csv')\n",
    "comp_df = comp_df[['Date received', 'Product', 'Issue', 'Consumer complaint narrative', 'Company']]\n",
    "comp_df.columns = ['date','product', 'issue', 'complaint', 'company']\n",
    "comp_df = comp_df.dropna(subset=['complaint'])\n",
    "pd.set_option('display.max_colwidth', None)\n",
    "print(comp_df.shape)\n",
    "comp_df.head()"
   ]
  },
  {
   "cell_type": "markdown",
   "id": "a3df1907-f183-4b42-8eed-574b0a3bc6ed",
   "metadata": {},
   "source": [
    "**2-1)Stratified Data**\n",
    "---"
   ]
  },
  {
   "cell_type": "code",
   "execution_count": 7,
   "id": "37d6e5e2-d03f-4416-bd55-7984dcb86653",
   "metadata": {},
   "outputs": [
    {
     "data": {
      "text/plain": [
       "3501"
      ]
     },
     "execution_count": 7,
     "metadata": {},
     "output_type": "execute_result"
    }
   ],
   "source": [
    "import re\n",
    "import nltk\n",
    "from nltk.tokenize import sent_tokenize\n",
    "from sklearn.model_selection import StratifiedShuffleSplit\n",
    "\n",
    "comp_df['year'] = comp_df['date'].str.split('-').str[0].astype(int)\n",
    "#comp_strat = comp_df.sample(n=500, random_state=42)\n",
    "comp_df['stratify_col'] = comp_df['year'].astype(str) + '_' + comp_df['product'].astype(str)\n",
    "stratified_split = StratifiedShuffleSplit(n_splits=1, test_size=500, random_state=30)\n",
    "comp_df_20_24 = comp_df[(comp_df['year']>=2020) & (comp_df['year']<=2024)]\n",
    "\n",
    "for train_index, sample_index in stratified_split.split(comp_df_20_24, comp_df_20_24['stratify_col']):\n",
    "    comp_strat = comp_df_20_24.iloc[sample_index]\n",
    "\n",
    "def remove_parentheses(text):\n",
    "    text = re.sub(r'\\([^)]*\\)', '', text)\n",
    "    text = re.sub(r'\\{[^)]*\\}', '', text)\n",
    "    text = re.sub(r'\\(\\s*[^()]*\\s*\\)', '', text)\n",
    "    text = re.sub(r'\\b(?:X{2,}|\\/X{2,})\\b', '', text)\n",
    "    text = re.sub(r'\\s{2,}', ' ', text).strip()\n",
    "    return text\n",
    "\n",
    "def text_split(texts): \n",
    "    comp_sen = []\n",
    "    for text in texts: \n",
    "        clean_text = remove_parentheses(text) \n",
    "        tokenized_text = sent_tokenize(clean_text)\n",
    "        comp_sen.extend(tokenized_text) \n",
    "    return comp_sen\n",
    "\n",
    "strat_sample = list(comp_strat['complaint'])\n",
    "strat_comp = text_split(strat_sample)\n",
    "strat_sen = [sen for sen in strat_comp if len(sen) > 20]\n",
    "\n",
    "len(strat_sen)"
   ]
  },
  {
   "cell_type": "code",
   "execution_count": 8,
   "id": "014a7b52-0a3c-4e5f-9a08-41c75cf08e67",
   "metadata": {},
   "outputs": [
    {
     "name": "stderr",
     "output_type": "stream",
     "text": [
      "Device set to use mps:0\n"
     ]
    },
    {
     "name": "stdout",
     "output_type": "stream",
     "text": [
      "[{'label': 'negative', 'score': 0.996485710144043}]\n"
     ]
    }
   ],
   "source": [
    "# pre-training model \n",
    "import torch\n",
    "from transformers import pipeline\n",
    "\n",
    "task = \"text-classification\"\n",
    "model_id = \"mrm8488/distilroberta-finetuned-financial-news-sentiment-analysis\"\n",
    "\n",
    "classifier1 = pipeline(task, model_id)\n",
    "text = \"Tesla cars are not as good as expected\"\n",
    "result = classifier1(text)\n",
    "print(result)\n",
    "\n",
    "strat_result = classifier1(strat_sen)"
   ]
  },
  {
   "cell_type": "code",
   "execution_count": 9,
   "id": "7fa46fcb-7d18-49af-a262-21619aeeb134",
   "metadata": {},
   "outputs": [
    {
     "data": {
      "text/plain": [
       "(311, 45, 3145)"
      ]
     },
     "execution_count": 9,
     "metadata": {},
     "output_type": "execute_result"
    }
   ],
   "source": [
    "result_label =[result['label'] for result in strat_result]\n",
    "negative_strat_sen = [sentence for sentence, label in zip(strat_sen, result_label) if label == 'negative']\n",
    "positive_strat_sen = [sentence for sentence, label in zip(strat_sen, result_label) if label == 'positive']\n",
    "neutral_strat_sen = [sentence for sentence, label in zip(strat_sen, result_label) if label == 'neutral']\n",
    "len(negative_strat_sen), len(positive_strat_sen), len(neutral_strat_sen)"
   ]
  },
  {
   "cell_type": "code",
   "execution_count": null,
   "id": "24e40fbd-a335-4674-ad1e-6bcdd2ee0c05",
   "metadata": {},
   "outputs": [],
   "source": []
  },
  {
   "cell_type": "code",
   "execution_count": null,
   "id": "6f301628-2b96-45bf-ae5f-946f0151a794",
   "metadata": {},
   "outputs": [],
   "source": []
  },
  {
   "cell_type": "markdown",
   "id": "7bb52f41-442d-4e3a-9c0c-12f7d68c0871",
   "metadata": {},
   "source": [
    "**2-2)Sample Data for Training**\n",
    "---"
   ]
  },
  {
   "cell_type": "code",
   "execution_count": 11,
   "id": "0ade099f-ecb6-4a2d-9ef0-12c44639643c",
   "metadata": {},
   "outputs": [
    {
     "data": {
      "text/html": [
       "<div>\n",
       "<style scoped>\n",
       "    .dataframe tbody tr th:only-of-type {\n",
       "        vertical-align: middle;\n",
       "    }\n",
       "\n",
       "    .dataframe tbody tr th {\n",
       "        vertical-align: top;\n",
       "    }\n",
       "\n",
       "    .dataframe thead th {\n",
       "        text-align: right;\n",
       "    }\n",
       "</style>\n",
       "<table border=\"1\" class=\"dataframe\">\n",
       "  <thead>\n",
       "    <tr style=\"text-align: right;\">\n",
       "      <th></th>\n",
       "      <th>sentiment</th>\n",
       "      <th>sentence</th>\n",
       "    </tr>\n",
       "  </thead>\n",
       "  <tbody>\n",
       "    <tr>\n",
       "      <th>0</th>\n",
       "      <td>relevant</td>\n",
       "      <td>It seems to be, asininely EXPERIAN, AND claimed that my account has been late on payments.</td>\n",
       "    </tr>\n",
       "    <tr>\n",
       "      <th>1</th>\n",
       "      <td>relevant</td>\n",
       "      <td>EXPERIAN, AND failure to respond within 30 days of receipt of this certified letter and or your DEFICIENT OF COMPLIANT RESPONSE will indeed result in small claims legal action against EXPERIAN, AND at my local venue.</td>\n",
       "    </tr>\n",
       "    <tr>\n",
       "      <th>2</th>\n",
       "      <td>relevant</td>\n",
       "      <td>Any other notation is possibly refutable or even unlawful chichanary- led subterfuge which might be deemed an illegal infraction that creates potential unjustified consumer injury to which is OBVIOUSLY a SEVERE infringement of nay reporting ethics and standard of law.</td>\n",
       "    </tr>\n",
       "    <tr>\n",
       "      <th>3</th>\n",
       "      <td>relevant</td>\n",
       "      <td>I've run into a bit of a problem.</td>\n",
       "    </tr>\n",
       "    <tr>\n",
       "      <th>4</th>\n",
       "      <td>relevant</td>\n",
       "      <td>While going through my credit report, I noticed some things that don't seem quite right, and it appears my identity have been stolen online.</td>\n",
       "    </tr>\n",
       "    <tr>\n",
       "      <th>...</th>\n",
       "      <td>...</td>\n",
       "      <td>...</td>\n",
       "    </tr>\n",
       "    <tr>\n",
       "      <th>306</th>\n",
       "      <td>relevant</td>\n",
       "      <td>Equifax refusal to supply this information yet still report false information has harmed my credit and therefore makes their actions illegal.</td>\n",
       "    </tr>\n",
       "    <tr>\n",
       "      <th>307</th>\n",
       "      <td>relevant</td>\n",
       "      <td>As evidenced in the 5th Circuit Court of Appeals ruling I submitted on , the Appellate Court Reversed and Remanded the case finding Wells Fargo failed in submitting evidence proving it is the proper party to enforce the promissory note at issue on .</td>\n",
       "    </tr>\n",
       "    <tr>\n",
       "      <th>308</th>\n",
       "      <td>relevant</td>\n",
       "      <td>Wells Fargo has failed in proving it holds ownership of the Mortgage and Note at issue, yet they are claiming they assigned the Mortgage and Note to .</td>\n",
       "    </tr>\n",
       "    <tr>\n",
       "      <th>309</th>\n",
       "      <td>relevant</td>\n",
       "      <td>As evidenced in the submitted Appellate Court Ruling, the falsified and fraudulent affidavits submitted by both PHH Mortgage and were invalidated.</td>\n",
       "    </tr>\n",
       "    <tr>\n",
       "      <th>310</th>\n",
       "      <td>relevant</td>\n",
       "      <td>The inclusion of these unauthorized accounts and inquiries has caused considerable and concern regarding my financial well-being.</td>\n",
       "    </tr>\n",
       "  </tbody>\n",
       "</table>\n",
       "<p>311 rows × 2 columns</p>\n",
       "</div>"
      ],
      "text/plain": [
       "    sentiment  \\\n",
       "0    relevant   \n",
       "1    relevant   \n",
       "2    relevant   \n",
       "3    relevant   \n",
       "4    relevant   \n",
       "..        ...   \n",
       "306  relevant   \n",
       "307  relevant   \n",
       "308  relevant   \n",
       "309  relevant   \n",
       "310  relevant   \n",
       "\n",
       "                                                                                                                                                                                                                                                                         sentence  \n",
       "0                                                                                                                                                                                      It seems to be, asininely EXPERIAN, AND claimed that my account has been late on payments.  \n",
       "1                                                        EXPERIAN, AND failure to respond within 30 days of receipt of this certified letter and or your DEFICIENT OF COMPLIANT RESPONSE will indeed result in small claims legal action against EXPERIAN, AND at my local venue.  \n",
       "2    Any other notation is possibly refutable or even unlawful chichanary- led subterfuge which might be deemed an illegal infraction that creates potential unjustified consumer injury to which is OBVIOUSLY a SEVERE infringement of nay reporting ethics and standard of law.  \n",
       "3                                                                                                                                                                                                                                               I've run into a bit of a problem.  \n",
       "4                                                                                                                                    While going through my credit report, I noticed some things that don't seem quite right, and it appears my identity have been stolen online.  \n",
       "..                                                                                                                                                                                                                                                                            ...  \n",
       "306                                                                                                                                 Equifax refusal to supply this information yet still report false information has harmed my credit and therefore makes their actions illegal.  \n",
       "307                     As evidenced in the 5th Circuit Court of Appeals ruling I submitted on , the Appellate Court Reversed and Remanded the case finding Wells Fargo failed in submitting evidence proving it is the proper party to enforce the promissory note at issue on .  \n",
       "308                                                                                                                        Wells Fargo has failed in proving it holds ownership of the Mortgage and Note at issue, yet they are claiming they assigned the Mortgage and Note to .  \n",
       "309                                                                                                                            As evidenced in the submitted Appellate Court Ruling, the falsified and fraudulent affidavits submitted by both PHH Mortgage and were invalidated.  \n",
       "310                                                                                                                                             The inclusion of these unauthorized accounts and inquiries has caused considerable and concern regarding my financial well-being.  \n",
       "\n",
       "[311 rows x 2 columns]"
      ]
     },
     "execution_count": 11,
     "metadata": {},
     "output_type": "execute_result"
    }
   ],
   "source": [
    "comp_sample_sen = negative_strat_sen\n",
    "comp_sample_df = pd.DataFrame(comp_sample_sen, columns = ['sentence'])\n",
    "comp_sample_df['sentiment'] = 'relevant'\n",
    "comp_sample_df = comp_sample_df[['sentiment', 'sentence']]\n",
    "comp_sample_df"
   ]
  },
  {
   "cell_type": "code",
   "execution_count": null,
   "id": "72ef51a0-b6ff-4275-a8e2-207dd0ad31b0",
   "metadata": {},
   "outputs": [],
   "source": []
  },
  {
   "cell_type": "markdown",
   "id": "b08a6d31-d299-4e23-b3f8-14a2c4995911",
   "metadata": {},
   "source": [
    "# 3) Data Join (Relevant, Neutral, Positive) \n",
    "---"
   ]
  },
  {
   "cell_type": "code",
   "execution_count": 13,
   "id": "58901bf6-4ab4-46c2-9f6f-24712c290819",
   "metadata": {},
   "outputs": [
    {
     "data": {
      "text/html": [
       "<div>\n",
       "<style scoped>\n",
       "    .dataframe tbody tr th:only-of-type {\n",
       "        vertical-align: middle;\n",
       "    }\n",
       "\n",
       "    .dataframe tbody tr th {\n",
       "        vertical-align: top;\n",
       "    }\n",
       "\n",
       "    .dataframe thead th {\n",
       "        text-align: right;\n",
       "    }\n",
       "</style>\n",
       "<table border=\"1\" class=\"dataframe\">\n",
       "  <thead>\n",
       "    <tr style=\"text-align: right;\">\n",
       "      <th></th>\n",
       "      <th>sentiment</th>\n",
       "      <th>sentence</th>\n",
       "    </tr>\n",
       "  </thead>\n",
       "  <tbody>\n",
       "    <tr>\n",
       "      <th>0</th>\n",
       "      <td>0</td>\n",
       "      <td>It seems to be, asininely EXPERIAN, AND claimed that my account has been late on payments.</td>\n",
       "    </tr>\n",
       "    <tr>\n",
       "      <th>1</th>\n",
       "      <td>0</td>\n",
       "      <td>EXPERIAN, AND failure to respond within 30 days of receipt of this certified letter and or your DEFICIENT OF COMPLIANT RESPONSE will indeed result in small claims legal action against EXPERIAN, AND at my local venue.</td>\n",
       "    </tr>\n",
       "    <tr>\n",
       "      <th>2</th>\n",
       "      <td>0</td>\n",
       "      <td>Any other notation is possibly refutable or even unlawful chichanary- led subterfuge which might be deemed an illegal infraction that creates potential unjustified consumer injury to which is OBVIOUSLY a SEVERE infringement of nay reporting ethics and standard of law.</td>\n",
       "    </tr>\n",
       "    <tr>\n",
       "      <th>3</th>\n",
       "      <td>0</td>\n",
       "      <td>I've run into a bit of a problem.</td>\n",
       "    </tr>\n",
       "    <tr>\n",
       "      <th>4</th>\n",
       "      <td>0</td>\n",
       "      <td>While going through my credit report, I noticed some things that don't seem quite right, and it appears my identity have been stolen online.</td>\n",
       "    </tr>\n",
       "    <tr>\n",
       "      <th>...</th>\n",
       "      <td>...</td>\n",
       "      <td>...</td>\n",
       "    </tr>\n",
       "    <tr>\n",
       "      <th>4819</th>\n",
       "      <td>1</td>\n",
       "      <td>Besides , as there is no depositor preference in Finland , senior debt and deposits rank on a par , which is also taken into consideration , the agency added .</td>\n",
       "    </tr>\n",
       "    <tr>\n",
       "      <th>4821</th>\n",
       "      <td>2</td>\n",
       "      <td>The 2015 target for net sales has been set at EUR 1bn and the target for return on investment at over 20 % .</td>\n",
       "    </tr>\n",
       "    <tr>\n",
       "      <th>4822</th>\n",
       "      <td>1</td>\n",
       "      <td>It holds 38 percent of Outokumpu 's shares and voting rights , but in 2001 lawmakers gave it permission to reduce the stake to 10 percent .</td>\n",
       "    </tr>\n",
       "    <tr>\n",
       "      <th>4825</th>\n",
       "      <td>1</td>\n",
       "      <td>Mobile communication and wireless broadband provider Nokia Inc NYSE : NOK today set new financial targets and forecasts for Nokia and the mobile device industry and also for Nokia Siemens Networks and the mobile and fixed infrastructure and related services market .</td>\n",
       "    </tr>\n",
       "    <tr>\n",
       "      <th>4841</th>\n",
       "      <td>1</td>\n",
       "      <td>Rinkuskiai 's beer sales fell by 6.5 per cent to 4.16 million litres , while Kauno Alus ' beer sales jumped by 6.9 per cent to 2.48 million litres .</td>\n",
       "    </tr>\n",
       "  </tbody>\n",
       "</table>\n",
       "<p>4552 rows × 2 columns</p>\n",
       "</div>"
      ],
      "text/plain": [
       "      sentiment  \\\n",
       "0             0   \n",
       "1             0   \n",
       "2             0   \n",
       "3             0   \n",
       "4             0   \n",
       "...         ...   \n",
       "4819          1   \n",
       "4821          2   \n",
       "4822          1   \n",
       "4825          1   \n",
       "4841          1   \n",
       "\n",
       "                                                                                                                                                                                                                                                                          sentence  \n",
       "0                                                                                                                                                                                       It seems to be, asininely EXPERIAN, AND claimed that my account has been late on payments.  \n",
       "1                                                         EXPERIAN, AND failure to respond within 30 days of receipt of this certified letter and or your DEFICIENT OF COMPLIANT RESPONSE will indeed result in small claims legal action against EXPERIAN, AND at my local venue.  \n",
       "2     Any other notation is possibly refutable or even unlawful chichanary- led subterfuge which might be deemed an illegal infraction that creates potential unjustified consumer injury to which is OBVIOUSLY a SEVERE infringement of nay reporting ethics and standard of law.  \n",
       "3                                                                                                                                                                                                                                                I've run into a bit of a problem.  \n",
       "4                                                                                                                                     While going through my credit report, I noticed some things that don't seem quite right, and it appears my identity have been stolen online.  \n",
       "...                                                                                                                                                                                                                                                                            ...  \n",
       "4819                                                                                                               Besides , as there is no depositor preference in Finland , senior debt and deposits rank on a par , which is also taken into consideration , the agency added .  \n",
       "4821                                                                                                                                                                  The 2015 target for net sales has been set at EUR 1bn and the target for return on investment at over 20 % .  \n",
       "4822                                                                                                                                   It holds 38 percent of Outokumpu 's shares and voting rights , but in 2001 lawmakers gave it permission to reduce the stake to 10 percent .  \n",
       "4825    Mobile communication and wireless broadband provider Nokia Inc NYSE : NOK today set new financial targets and forecasts for Nokia and the mobile device industry and also for Nokia Siemens Networks and the mobile and fixed infrastructure and related services market .  \n",
       "4841                                                                                                                          Rinkuskiai 's beer sales fell by 6.5 per cent to 4.16 million litres , while Kauno Alus ' beer sales jumped by 6.9 per cent to 2.48 million litres .  \n",
       "\n",
       "[4552 rows x 2 columns]"
      ]
     },
     "execution_count": 13,
     "metadata": {},
     "output_type": "execute_result"
    }
   ],
   "source": [
    "sen_sample = pd.concat([comp_sample_df, np_data], axis=0)\n",
    "label_map = {label: idx for idx, label in enumerate(sen_sample['sentiment'].unique())} #0: Relevant, 1: Neutral, 2: Positive\n",
    "sen_sample['sentiment'] = sen_sample['sentiment'].map(label_map)\n",
    "sen_sample"
   ]
  },
  {
   "cell_type": "code",
   "execution_count": null,
   "id": "cba1f391-d288-4357-9760-81c838088f97",
   "metadata": {},
   "outputs": [],
   "source": []
  },
  {
   "cell_type": "markdown",
   "id": "660b3d4c-be57-43d1-8b30-fd459444ab36",
   "metadata": {},
   "source": [
    "**Data convertion and train/val/test split**\n",
    "---"
   ]
  },
  {
   "cell_type": "code",
   "execution_count": 15,
   "id": "accbb21b-7fbb-4e5f-8134-875940b33fd7",
   "metadata": {},
   "outputs": [],
   "source": [
    "from torch.utils.data import random_split, DataLoader, Dataset\n",
    "from transformers import AutoTokenizer\n",
    "\n",
    "model_checkpoint = \"distilbert-base-uncased\"\n",
    "tokenizer = AutoTokenizer.from_pretrained(model_checkpoint, use_fast=True)\n",
    "\n",
    "class CustomDataset(Dataset):\n",
    "    def __init__(self, texts, labels, tokenizer, max_len):\n",
    "        self.texts = texts\n",
    "        self.labels = labels\n",
    "        self.tokenizer = tokenizer\n",
    "        self.max_len = max_len\n",
    "\n",
    "    def __len__(self):\n",
    "        return len(self.texts)\n",
    "\n",
    "    def __getitem__(self, idx):\n",
    "        text = self.texts[idx]\n",
    "        label = self.labels[idx]\n",
    "\n",
    "        encoding = self.tokenizer.encode_plus(\n",
    "            text,\n",
    "            add_special_tokens=True,\n",
    "            max_length=self.max_len,\n",
    "            return_token_type_ids=False,\n",
    "            padding='max_length',\n",
    "            return_attention_mask=True,\n",
    "            return_tensors='pt',\n",
    "            truncation=True\n",
    "        )\n",
    "\n",
    "        return {\n",
    "            'input_ids': encoding['input_ids'].flatten(),\n",
    "            'attention_mask': encoding['attention_mask'].flatten(),\n",
    "            'labels': torch.tensor(label, dtype=torch.long)\n",
    "        }\n",
    "\n",
    "dataset = CustomDataset(\n",
    "    texts=sen_sample['sentence'].to_numpy(),\n",
    "    labels=sen_sample['sentiment'].to_numpy(),\n",
    "    tokenizer=tokenizer,\n",
    "    max_len=128\n",
    ")\n",
    "\n",
    "train_size = int(0.75 * len(dataset))\n",
    "test_size = len(dataset) - train_size\n",
    "\n",
    "train_dataset, test_dataset = random_split(dataset, [train_size, test_size])\n",
    "\n",
    "train_size = int(0.8 * len(train_dataset))\n",
    "val_size = len(train_dataset) - train_size\n",
    "train_dataset, val_dataset = random_split(train_dataset, [train_size, val_size])\n",
    "\n",
    "train_loader = DataLoader(train_dataset, batch_size=16, shuffle=True)\n",
    "val_loader = DataLoader(val_dataset, batch_size=32, shuffle=True)\n",
    "test_loader = DataLoader(test_dataset, batch_size=32, shuffle=False)"
   ]
  },
  {
   "cell_type": "code",
   "execution_count": null,
   "id": "331a4744-b8bf-4ac2-9fa9-c3ea3c3d64c6",
   "metadata": {},
   "outputs": [],
   "source": []
  },
  {
   "cell_type": "code",
   "execution_count": null,
   "id": "1fb1ecd9-cf0e-4854-8352-8ed4e2cb0c7e",
   "metadata": {},
   "outputs": [],
   "source": []
  },
  {
   "cell_type": "markdown",
   "id": "fbdf1685-ee76-4db1-9aaf-f151a86bebba",
   "metadata": {},
   "source": [
    "# 4) Model Training \n",
    "---"
   ]
  },
  {
   "cell_type": "markdown",
   "id": "374d4b6b-b642-410a-974c-530f429fecbb",
   "metadata": {},
   "source": [
    "**4-1) epoch = 10**\n",
    "---"
   ]
  },
  {
   "cell_type": "code",
   "execution_count": 23,
   "id": "a63fb018-cefe-4d57-86d9-d22301675ed9",
   "metadata": {},
   "outputs": [
    {
     "name": "stdout",
     "output_type": "stream",
     "text": [
      "Epoch 1/10\n",
      "Training Loss: 0.9039\n",
      "Validation Loss: 0.8086\n",
      "Validation Accuracy: 0.6340\n",
      "Epoch 2/10\n",
      "Training Loss: 0.7415\n",
      "Validation Loss: 0.6691\n",
      "Validation Accuracy: 0.6984\n",
      "Epoch 3/10\n",
      "Training Loss: 0.5899\n",
      "Validation Loss: 0.6047\n",
      "Validation Accuracy: 0.7116\n",
      "Epoch 4/10\n",
      "Training Loss: 0.4906\n",
      "Validation Loss: 0.6099\n",
      "Validation Accuracy: 0.7306\n",
      "Epoch 5/10\n",
      "Training Loss: 0.3803\n",
      "Validation Loss: 0.6499\n",
      "Validation Accuracy: 0.7365\n",
      "Epoch 6/10\n",
      "Training Loss: 0.2964\n",
      "Validation Loss: 0.6920\n",
      "Validation Accuracy: 0.7218\n",
      "Epoch 7/10\n",
      "Training Loss: 0.2202\n",
      "Validation Loss: 0.7773\n",
      "Validation Accuracy: 0.7277\n",
      "Epoch 8/10\n",
      "Training Loss: 0.1614\n",
      "Validation Loss: 0.8787\n",
      "Validation Accuracy: 0.7438\n",
      "Epoch 9/10\n",
      "Training Loss: 0.1222\n",
      "Validation Loss: 1.0091\n",
      "Validation Accuracy: 0.7116\n",
      "Epoch 10/10\n",
      "Training Loss: 0.0977\n",
      "Validation Loss: 1.0088\n",
      "Validation Accuracy: 0.7379\n",
      "Training complete\n"
     ]
    }
   ],
   "source": [
    "from torch.optim import AdamW\n",
    "from transformers import AutoTokenizer, AutoModelForSequenceClassification, get_scheduler\n",
    "\n",
    "model_id = \"mrm8488/distilroberta-finetuned-financial-news-sentiment-analysis\"\n",
    "tokenizer = AutoTokenizer.from_pretrained(model_id)\n",
    "model = AutoModelForSequenceClassification.from_pretrained(model_id)\n",
    "\n",
    "optimizer = AdamW(model.parameters(), lr=2e-5)\n",
    "\n",
    "num_epochs = 10\n",
    "num_training_steps = len(train_loader) * num_epochs\n",
    "lr_scheduler = get_scheduler(\n",
    "    \"linear\",\n",
    "    optimizer=optimizer,\n",
    "    num_warmup_steps=0,\n",
    "    num_training_steps=num_training_steps\n",
    ")\n",
    "\n",
    "def calculate_accuracy(outputs, labels):\n",
    "    _, preds = torch.max(outputs.logits, dim=1)\n",
    "    return (preds == labels).sum().item()\n",
    "\n",
    "device = torch.device(\"cuda\") if torch.cuda.is_available() else torch.device(\"cpu\")\n",
    "model.to(device)\n",
    "avg_train_loss = []\n",
    "avg_val_loss = []\n",
    "avg_accuracy = []\n",
    "\n",
    "for epoch in range(num_epochs):\n",
    "    model.train()\n",
    "    total_train_loss = 0\n",
    "    for batch in train_loader:\n",
    "        batch = {k: v.to(device) for k, v in batch.items()}\n",
    "        labels = batch['labels']\n",
    "        outputs = model(**batch)\n",
    "        loss = outputs.loss\n",
    "\n",
    "        loss.backward()\n",
    "        optimizer.step()\n",
    "        lr_scheduler.step()\n",
    "        optimizer.zero_grad()\n",
    "\n",
    "        total_train_loss += loss.item()\n",
    "    \n",
    "    avg_train_loss.append(total_train_loss / len(train_loader))\n",
    "    \n",
    "    # Validation loop\n",
    "    model.eval()\n",
    "    total_val_loss = 0\n",
    "    total_accuracy = 0\n",
    "    \n",
    "    with torch.no_grad():\n",
    "        for batch in val_loader:\n",
    "            batch = {k: v.to(device) for k, v in batch.items()}\n",
    "            labels = batch['labels']\n",
    "            outputs = model(**batch)\n",
    "            loss = outputs.loss\n",
    "            total_val_loss += loss.item()\n",
    "\n",
    "            # Calculate accuracy\n",
    "            total_accuracy += calculate_accuracy(outputs, labels)\n",
    "    \n",
    "    avg_val_loss.append(total_val_loss / len(val_loader))\n",
    "    avg_accuracy.append(total_accuracy / len(val_dataset))  # Divide by total number of samples\n",
    "    \n",
    "    print(f\"Epoch {epoch+1}/{num_epochs}\")\n",
    "    print(f\"Training Loss: {avg_train_loss[epoch]:.4f}\")\n",
    "    print(f\"Validation Loss: {avg_val_loss[epoch]:.4f}\")\n",
    "    print(f\"Validation Accuracy: {avg_accuracy[epoch]:.4f}\")\n",
    "\n",
    "print(\"Training complete\")"
   ]
  },
  {
   "cell_type": "code",
   "execution_count": 45,
   "id": "1c00ada5-8886-4a43-8f85-720d7728e058",
   "metadata": {},
   "outputs": [
    {
     "data": {
      "image/png": "[encoded data removed]",
      "text/plain": [
       "<Figure size 640x480 with 1 Axes>"
      ]
     },
     "metadata": {},
     "output_type": "display_data"
    }
   ],
   "source": [
    "from matplotlib import pyplot as plt\n",
    "\n",
    "epochs = range(1, len(avg_train_loss) + 1)  # Start from 1\n",
    "optimal_epoch = np.argmin(avg_val_loss)+1\n",
    "\n",
    "plt.plot(epochs, avg_train_loss, label='Training Loss')\n",
    "plt.plot(epochs, avg_val_loss, label='Validation Loss')\n",
    "plt.axvline(x=optimal_epoch, color='r', linestyle='--', linewidth=0.5, alpha=0.8)\n",
    "plt.xlabel('Epoch')\n",
    "plt.ylabel('Loss')\n",
    "plt.legend()\n",
    "plt.show()"
   ]
  },
  {
   "cell_type": "code",
   "execution_count": null,
   "id": "f6022127-5b85-48a8-b8e4-1cd0b0d0234b",
   "metadata": {},
   "outputs": [],
   "source": []
  },
  {
   "cell_type": "code",
   "execution_count": null,
   "id": "e44c6ac6-3f09-4fae-9332-83fda3c3c94d",
   "metadata": {},
   "outputs": [],
   "source": []
  },
  {
   "cell_type": "markdown",
   "id": "49f947cd-4d16-475a-9fc7-933476caae0a",
   "metadata": {},
   "source": [
    "**4-2) epoch = 3**\n",
    "---"
   ]
  },
  {
   "cell_type": "code",
   "execution_count": 47,
   "id": "9a8932bd-d8e9-45a4-9d53-29761c02f89d",
   "metadata": {},
   "outputs": [
    {
     "name": "stdout",
     "output_type": "stream",
     "text": [
      "Epoch 1/3\n",
      "Training Loss: 0.9368\n",
      "Validation Loss: 0.8213\n",
      "Validation Accuracy: 0.6281\n",
      "Epoch 2/3\n",
      "Training Loss: 0.7803\n",
      "Validation Loss: 0.7366\n",
      "Validation Accuracy: 0.6530\n",
      "Epoch 3/3\n",
      "Training Loss: 0.6866\n",
      "Validation Loss: 0.6663\n",
      "Validation Accuracy: 0.7057\n",
      "Training complete\n"
     ]
    }
   ],
   "source": [
    "from torch.optim import AdamW\n",
    "from transformers import AutoTokenizer, AutoModelForSequenceClassification, get_scheduler\n",
    "\n",
    "model_id = \"mrm8488/distilroberta-finetuned-financial-news-sentiment-analysis\"\n",
    "tokenizer = AutoTokenizer.from_pretrained(model_id)\n",
    "model = AutoModelForSequenceClassification.from_pretrained(model_id)\n",
    "\n",
    "\n",
    "optimizer = AdamW(model.parameters(), lr=2e-5)\n",
    "num_epochs = optimal_epoch # optimal epoch from the trial above\n",
    "num_training_steps = len(train_loader) * num_epochs\n",
    "lr_scheduler = get_scheduler(\n",
    "    \"linear\",\n",
    "    optimizer=optimizer,\n",
    "    num_warmup_steps=0,\n",
    "    num_training_steps=num_training_steps\n",
    ")\n",
    "\n",
    "def calculate_accuracy(outputs, labels):\n",
    "    _, preds = torch.max(outputs.logits, dim=1)\n",
    "    return (preds == labels).sum().item()\n",
    "\n",
    "device = torch.device(\"cuda\") if torch.cuda.is_available() else torch.device(\"cpu\")\n",
    "model.to(device)\n",
    "\n",
    "avg_train_loss = []\n",
    "avg_val_loss = []\n",
    "avg_accuracy = []\n",
    "\n",
    "for epoch in range(num_epochs):\n",
    "    model.train()\n",
    "    total_train_loss = 0\n",
    "    for batch in train_loader:\n",
    "        batch = {k: v.to(device) for k, v in batch.items()}\n",
    "        labels = batch['labels']\n",
    "        outputs = model(**batch)\n",
    "        loss = outputs.loss\n",
    "\n",
    "        loss.backward()\n",
    "        optimizer.step()\n",
    "        lr_scheduler.step()\n",
    "        optimizer.zero_grad()\n",
    "\n",
    "        total_train_loss += loss.item()\n",
    "    \n",
    "    avg_train_loss.append(total_train_loss / len(train_loader))\n",
    "    \n",
    "    # Validation loop\n",
    "    model.eval()\n",
    "    total_val_loss = 0\n",
    "    total_accuracy = 0\n",
    "    \n",
    "    with torch.no_grad():\n",
    "        for batch in val_loader:\n",
    "            batch = {k: v.to(device) for k, v in batch.items()}\n",
    "            labels = batch['labels']\n",
    "            outputs = model(**batch)\n",
    "            loss = outputs.loss\n",
    "            total_val_loss += loss.item()\n",
    "\n",
    "            # Calculate accuracy\n",
    "            total_accuracy += calculate_accuracy(outputs, labels)\n",
    "    \n",
    "    avg_val_loss.append(total_val_loss / len(val_loader))\n",
    "    avg_accuracy.append(total_accuracy / len(val_dataset))  # Divide by total number of samples\n",
    "    \n",
    "    print(f\"Epoch {epoch+1}/{num_epochs}\")\n",
    "    print(f\"Training Loss: {avg_train_loss[epoch]:.4f}\")\n",
    "    print(f\"Validation Loss: {avg_val_loss[epoch]:.4f}\")\n",
    "    print(f\"Validation Accuracy: {avg_accuracy[epoch]:.4f}\")\n",
    "\n",
    "print(\"Training complete\")"
   ]
  },
  {
   "cell_type": "code",
   "execution_count": 50,
   "id": "123c9e19-f308-4397-9860-8726d9006b48",
   "metadata": {},
   "outputs": [
    {
     "data": {
      "application/vnd.jupyter.widget-view+json": {
       "model_id": "e2766aad10d54fc3ab7f4aed500f6c40",
       "version_major": 2,
       "version_minor": 0
      },
      "text/plain": [
       "model.safetensors:   0%|          | 0.00/328M [00:00<?, ?B/s]"
      ]
     },
     "metadata": {},
     "output_type": "display_data"
    },
    {
     "name": "stderr",
     "output_type": "stream",
     "text": [
      "No files have been modified since last commit. Skipping to prevent empty commit.\n"
     ]
    },
    {
     "data": {
      "text/plain": [
       "CommitInfo(commit_url='https://huggingface.co/tedheo/financial-news-complaint-relevence-analysis-model/commit/34a1663833b471029dc03d8ca6a8a79dc644ead6', commit_message='Upload tokenizer', commit_description='', oid='34a1663833b471029dc03d8ca6a8a79dc644ead6', pr_url=None, repo_url=RepoUrl('https://huggingface.co/tedheo/financial-news-complaint-relevence-analysis-model', endpoint='https://huggingface.co', repo_type='model', repo_id='tedheo/financial-news-complaint-relevence-analysis-model'), pr_revision=None, pr_num=None)"
      ]
     },
     "execution_count": 50,
     "metadata": {},
     "output_type": "execute_result"
    }
   ],
   "source": [
    "from huggingface_hub import HfApi\n",
    "from transformers import AutoModel, AutoTokenizer\n",
    "\n",
    "api = HfApi()\n",
    "repo_name = \"my-finetuned-model\"\n",
    "api.create_repo(repo_name, exist_ok=True)\n",
    "\n",
    "model.push_to_hub(\"financial-news-complaint-relevence-analysis-model\")\n",
    "tokenizer.push_to_hub(\"financial-news-complaint-relevence-analysis-model\")"
   ]
  },
  {
   "cell_type": "code",
   "execution_count": null,
   "id": "e4df8865-2cc6-4e47-b235-645a0e6da033",
   "metadata": {},
   "outputs": [],
   "source": []
  },
  {
   "cell_type": "code",
   "execution_count": null,
   "id": "73d06b9d-4f6f-4f51-81a3-644ca838a3af",
   "metadata": {},
   "outputs": [],
   "source": []
  },
  {
   "cell_type": "markdown",
   "id": "10c90b8a-e06d-4b4d-88fd-49521bf98bcc",
   "metadata": {},
   "source": [
    "**4-3) Model Result Decoder and Test**\n",
    "---"
   ]
  },
  {
   "cell_type": "code",
   "execution_count": 29,
   "id": "d7fb1b75-8f2e-4e0c-bdf7-66fe3970a269",
   "metadata": {},
   "outputs": [
    {
     "name": "stderr",
     "output_type": "stream",
     "text": [
      "Device set to use mps:0\n"
     ]
    },
    {
     "name": "stdout",
     "output_type": "stream",
     "text": [
      "{'label': 'irrelevant', 'score': 0.7767212390899658}\n",
      "{'label': 'irrelevant', 'score': 0.5827060341835022}\n",
      "{'label': 'irrelevant', 'score': 0.7482746839523315}\n",
      "{'label': 'relevant', 'score': 0.990906834602356}\n",
      "{'label': 'relevant', 'score': 0.6770784258842468}\n"
     ]
    }
   ],
   "source": [
    "from transformers import AutoTokenizer, AutoModelForSequenceClassification, pipeline\n",
    "import torch\n",
    "\n",
    "task = \"text-classification\"\n",
    "model_id = \"tedheo/financial-news-complaint-relevence-analysis-model\"\n",
    "classifier2 = pipeline(task, model_id)\n",
    "\n",
    "def result_decoder(texts):\n",
    "    mapping = {'negative': 'relevant', 'neutral': 'irrelevant', 'positive': 'irrelevant'}\n",
    "    results = classifier2(texts)  \n",
    "    for result in results:\n",
    "        result['label'] = mapping[result['label']]\n",
    "    return results\n",
    "\n",
    "sample_texts = [\n",
    "    \"The stock market is performing exceptionally well today.\",\n",
    "    \"I am filing a complaint against Cash App due to inadequate customer service and unfair practices, which violate the Consumer Financial Protection Act .\",\n",
    "    \"The 2015 target for net sales has been set at EUR 1bn and the target for return on investment at over 20 % .\",\n",
    "    \"Sales in Finland decreased by 10.5 % in January , while sales outside Finland dropped by 17 % .\",\n",
    "    \"Rinkuskiai 's beer sales fell by 6.5 per cent to 4.16 million litres , while Kauno Alus ' beer sales jumped by 6.9 per cent to 2.48 million litres .\"    \n",
    "]\n",
    "\n",
    "results = result_decoder(sample_texts) # need to change the label from negative neutral positive to relevant irrelevant\n",
    "for result in results:\n",
    "    print(result)"
   ]
  },
  {
   "cell_type": "code",
   "execution_count": 30,
   "id": "ec25c661-cd7f-4e3b-9e46-5087804bd7d6",
   "metadata": {},
   "outputs": [
    {
     "name": "stdout",
     "output_type": "stream",
     "text": [
      "{'label': 'positive', 'score': 0.999562680721283}\n",
      "{'label': 'neutral', 'score': 0.678717315196991}\n",
      "{'label': 'neutral', 'score': 0.9997524619102478}\n",
      "{'label': 'negative', 'score': 0.9985373020172119}\n",
      "{'label': 'negative', 'score': 0.9913457632064819}\n"
     ]
    }
   ],
   "source": [
    "original_labels = classifier1(sample_texts)\n",
    "for label in original_labels:\n",
    "    print(label)"
   ]
  },
  {
   "cell_type": "code",
   "execution_count": null,
   "id": "5bc1a1a8-11cb-4141-801a-f8b6f54531a7",
   "metadata": {},
   "outputs": [],
   "source": []
  },
  {
   "cell_type": "code",
   "execution_count": null,
   "id": "f778441f-083e-4ed7-b4af-9c82df774a1a",
   "metadata": {},
   "outputs": [],
   "source": []
  },
  {
   "cell_type": "markdown",
   "id": "d0044788-55f9-4541-8236-ed87b3cb62c5",
   "metadata": {},
   "source": [
    "# 4-4) Evaluation\n",
    "---"
   ]
  },
  {
   "cell_type": "code",
   "execution_count": 32,
   "id": "2a03913c-6364-4b6f-a3a9-cb1f45b9526e",
   "metadata": {},
   "outputs": [
    {
     "name": "stdout",
     "output_type": "stream",
     "text": [
      "Accuracy: 0.8638\n",
      "Precision: 0.8626\n",
      "Recall: 0.8137\n",
      "F1 Score: 0.8355\n"
     ]
    }
   ],
   "source": [
    "from sklearn.metrics import accuracy_score, precision_recall_fscore_support\n",
    "from sklearn.model_selection import train_test_split\n",
    "\n",
    "sen_train, sen_test= train_test_split(sen_sample, test_size=0.3, random_state=42, stratify = sen_sample['sentiment'])\n",
    "\n",
    "texts = sen_test['sentence'].tolist()  \n",
    "true_labels = sen_test['sentiment'].tolist()  \n",
    "predictions = classifier2(texts, truncation=True, padding=True)\n",
    "predicted_labels = [pred['label'] for pred in predictions]\n",
    "\n",
    "label_mapping = {'negative': 0, 'neutral': 1, 'positive': 2}\n",
    "predicted_labels_ids = [label_mapping[label] for label in predicted_labels]\n",
    "\n",
    "accuracy = accuracy_score(true_labels, predicted_labels_ids)\n",
    "precision, recall, f1, _ = precision_recall_fscore_support(true_labels, predicted_labels_ids, average='macro')\n",
    "\n",
    "print(f\"Accuracy: {accuracy:.4f}\")\n",
    "print(f\"Precision: {precision:.4f}\")\n",
    "print(f\"Recall: {recall:.4f}\")\n",
    "print(f\"F1 Score: {f1:.4f}\")"
   ]
  },
  {
   "cell_type": "code",
   "execution_count": null,
   "id": "eb519f0a-86b8-45f8-a763-0d03a4094a67",
   "metadata": {},
   "outputs": [],
   "source": []
  },
  {
   "cell_type": "markdown",
   "id": "d759f6eb-2da9-4a09-98af-ee321c40ebfa",
   "metadata": {},
   "source": [
    "# 5) Test Operation\n",
    "---"
   ]
  },
  {
   "cell_type": "markdown",
   "id": "0c776511-52e1-4d66-8958-02b3e308185b",
   "metadata": {},
   "source": [
    "**5-1) Get the text from an article url**\n",
    "---"
   ]
  },
  {
   "cell_type": "code",
   "execution_count": 35,
   "id": "3850521a-4d3a-4cab-b83c-208b070d5544",
   "metadata": {},
   "outputs": [],
   "source": [
    "import requests\n",
    "import re\n",
    "import nltk\n",
    "from nltk.tokenize import sent_tokenize\n",
    "from bs4 import BeautifulSoup\n",
    "from readability import Document\n",
    "\n",
    "def remove_parentheses(text):\n",
    "    text = re.sub(r'\\([^)]*\\)', '', text)\n",
    "    text = re.sub(r'\\{[^)]*\\}', '', text)\n",
    "    text = re.sub(r'\\(\\s*[^()]*\\s*\\)', '', text)\n",
    "    text = re.sub(r'\\b(?:X{2,}|\\/X{2,})\\b', '', text)\n",
    "    text = re.sub(r'\\s{2,}', ' ', text).strip()\n",
    "    return text\n",
    "\n",
    "def fetch_article_text(url):\n",
    "    # Download the article HTML\n",
    "    response = requests.get(url)\n",
    "    response.raise_for_status()  # Raise an error if the request was unsuccessful\n",
    "\n",
    "    # Use readability to parse HTML\n",
    "    doc = Document(response.text)\n",
    "    article_text = doc.summary()\n",
    "\n",
    "    # If you want only the text without HTML tags, use BeautifulSoup\n",
    "    soup = BeautifulSoup(article_text, 'html.parser')\n",
    "    \n",
    "    article_text = soup.get_text(separator=' ')\n",
    "    split_text = article_text.split('\\t')\n",
    "    article_sample_sen = []\n",
    "\n",
    "    for text in split_text: \n",
    "        clean_text = remove_parentheses(text) \n",
    "        clean_sen = sent_tokenize(clean_text)\n",
    "        article_sample_sen.extend(clean_sen) \n",
    "        \n",
    "    return article_sample_sen\n",
    "\n",
    "url1 = 'https://www.cnn.com/2025/04/09/investing/global-stock-market-reciprocal-tariffs-hnk-intl/index.html'\n",
    "url2 = 'https://www.thearmchairtrader.com/currencies/korean-won-forecast-martial-law/'\n",
    "url3 = 'https://economictimes.indiatimes.com/news/international/global-trends/the-financial-crisis-of-2025-better-to-be-ready/articleshow/120344209.cms?from=mdr'\n",
    "url4 = 'https://www.cnn.com/2022/08/03/business/equifax-wrong-credit-scores/index.html'\n",
    "url5 = 'https://www.pymnts.com/economy/2024/consumers-paid-price-overstated-job-growth-that-kept-interest-rates-too-high/'\n",
    "url6 = 'https://www.who.int/westernpacific/newsroom/feature-stories/item/improving-food-safety--lessons-learned-from-a-food-poisoning-outbreak'\n",
    "\n",
    "article_text1 = fetch_article_text(url1) # Tariffs Crisis\n",
    "article_text2 = fetch_article_text(url2) # South Korea Political Turmoil\n",
    "article_text3 = fetch_article_text(url3) # Financial Crisis Anxiety\n",
    "article_text4 = fetch_article_text(url4) # Incorrect Credit Scores \n",
    "article_text5 = fetch_article_text(url5) # Overstated Job Growth \n",
    "article_text6 = fetch_article_text(url6) # Food Poisoning Outbreak"
   ]
  },
  {
   "cell_type": "code",
   "execution_count": null,
   "id": "7078d853-0482-4fbd-88fa-d59ad5e2ea02",
   "metadata": {},
   "outputs": [],
   "source": []
  },
  {
   "cell_type": "markdown",
   "id": "b30e336c-3911-402e-a0fb-38c37e8a40f0",
   "metadata": {},
   "source": [
    "**5-2) Relevence Check**\n",
    "---"
   ]
  },
  {
   "cell_type": "code",
   "execution_count": 37,
   "id": "120b0d91-57aa-4a2c-a742-976c7eba1dc4",
   "metadata": {},
   "outputs": [
    {
     "name": "stdout",
     "output_type": "stream",
     "text": [
      "Article 1 True\n",
      "Article 2 True\n",
      "Article 3 False\n",
      "Article 4 True\n",
      "Article 5 False\n",
      "Article 6 False\n"
     ]
    }
   ],
   "source": [
    "# Test : an article has at least 3 sentence have relevence with score >= 0.97\n",
    "def is_relevant(results_list):\n",
    "    rel = False\n",
    "    rel_count = 0 \n",
    "    for result in results_list: \n",
    "        if (result['label']=='relevant') & (result['score']>=0.90):\n",
    "            rel_count += 1\n",
    "    if rel_count >= 2: \n",
    "        rel = True\n",
    "    return rel\n",
    "\n",
    "result1 = result_decoder(article_text1)\n",
    "result2 = result_decoder(article_text2)\n",
    "result3 = result_decoder(article_text3)\n",
    "result4 = result_decoder(article_text4)\n",
    "result5 = result_decoder(article_text5)\n",
    "result6 = result_decoder(article_text6) \n",
    "\n",
    "print(\"Article 1\", is_relevant(result1))\n",
    "print(\"Article 2\", is_relevant(result2))\n",
    "print(\"Article 3\", is_relevant(result3))\n",
    "print(\"Article 4\", is_relevant(result4))\n",
    "print(\"Article 5\", is_relevant(result5))\n",
    "print(\"Article 6\", is_relevant(result6))"
   ]
  },
  {
   "cell_type": "code",
   "execution_count": null,
   "id": "47e90171-39fa-452c-a692-22cb4b4c2c0d",
   "metadata": {},
   "outputs": [],
   "source": []
  },
  {
   "cell_type": "code",
   "execution_count": null,
   "id": "b38ffbaa-93d7-4187-8212-186c6a29cf07",
   "metadata": {},
   "outputs": [],
   "source": []
  }
 ],
 "metadata": {
  "kernelspec": {
   "display_name": "Python 3 (ipykernel)",
   "language": "python",
   "name": "python3"
  },
  "language_info": {
   "codemirror_mode": {
    "name": "ipython",
    "version": 3
   },
   "file_extension": ".py",
   "mimetype": "text/x-python",
   "name": "python",
   "nbconvert_exporter": "python",
   "pygments_lexer": "ipython3",
   "version": "3.12.4"
  }
 },
 "nbformat": 4,
 "nbformat_minor": 5
}
